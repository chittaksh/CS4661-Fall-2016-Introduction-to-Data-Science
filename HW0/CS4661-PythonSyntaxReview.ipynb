{
 "cells": [
  {
   "cell_type": "markdown",
   "metadata": {},
   "source": [
    "# Introduction to Data Science (CS4661). Cal State LA, CS Dept.\n",
    "#### Instructor: Mo. Porhomayoun\n",
    "---------------------------------------------------------------------------------------------------\n",
    "---------------------------------------------------------------------------------------------------"
   ]
  },
  {
   "cell_type": "markdown",
   "metadata": {},
   "source": [
    "# Jupyter Notebook (ipython Notebook)\n",
    "\n",
    "The Jupyter Notebook (previously known as ipython Notebook) is a web-based interactive development environment, in which you can combine code execution, text and notations (markdown), mathematics, and plots. It will be run under your brrowser. The Jupyter Notebook supports a number of programming languages including Python, Julia, Octave, and R.\n",
    "\n",
    "The Jupyter Notebook include cells. Each cell can be run independently.\n",
    "You can add/remove cells, or arrange the order of them. A piece of code, or several lines of the code that we want to run together can be written in a single cell. We strongly recommend using Jupyter Notebook as a framework\n",
    "\n",
    "---------------------------------------------------------------------------------------------------\n",
    "---------------------------------------------------------------------------------------------------"
   ]
  },
  {
   "cell_type": "markdown",
   "metadata": {},
   "source": [
    "\n",
    "# Python Programming\n",
    "\n",
    "#### This is a quick review of some python syntax. Please refer to the suggested resources for more information.\n",
    "\n",
    "---------------------------------------------------------------------------------------------------\n",
    "---------------------------------------------------------------------------------------------------\n"
   ]
  },
  {
   "cell_type": "markdown",
   "metadata": {},
   "source": [
    "## Let's start with some numeric operations:"
   ]
  },
  {
   "cell_type": "code",
   "execution_count": 1,
   "metadata": {
    "collapsed": false
   },
   "outputs": [
    {
     "data": {
      "text/plain": [
       "5"
      ]
     },
     "execution_count": 1,
     "metadata": {},
     "output_type": "execute_result"
    }
   ],
   "source": [
    "# we can use '#' for commenting a line!\n",
    "\n",
    "# sum:\n",
    "2+3"
   ]
  },
  {
   "cell_type": "code",
   "execution_count": 3,
   "metadata": {
    "collapsed": false
   },
   "outputs": [
    {
     "data": {
      "text/plain": [
       "6"
      ]
     },
     "execution_count": 3,
     "metadata": {},
     "output_type": "execute_result"
    }
   ],
   "source": [
    "# multiply:\n",
    "2*3"
   ]
  },
  {
   "cell_type": "code",
   "execution_count": 3,
   "metadata": {
    "collapsed": false,
    "scrolled": false
   },
   "outputs": [
    {
     "name": "stdout",
     "output_type": "stream",
     "text": [
      "2.5\n",
      "2.5\n",
      "2.5\n",
      "2.5\n",
      "2.0\n",
      "1\n",
      "1000\n"
     ]
    }
   ],
   "source": [
    "# Integer and floating-point division:\n",
    "print(5/2) # int/int returns int in python ver2.x!\n",
    "\n",
    "print(5/2.0)\n",
    "print(5.0/2)\n",
    "print(5/float(2))\n",
    "\n",
    "print(5.0//2) # floor (truncate)\n",
    "\n",
    "print(10%3)  # remainder\n",
    "\n",
    "print(10**3) # exponent"
   ]
  },
  {
   "cell_type": "code",
   "execution_count": 4,
   "metadata": {
    "collapsed": false
   },
   "outputs": [
    {
     "name": "stdout",
     "output_type": "stream",
     "text": [
      "5\n",
      "5\n"
     ]
    }
   ],
   "source": [
    "# Variables:\n",
    "a = 2\n",
    "b = 3\n",
    "c = a+b\n",
    "print(c)\n",
    "print(a+b)"
   ]
  },
  {
   "cell_type": "code",
   "execution_count": 5,
   "metadata": {
    "collapsed": false
   },
   "outputs": [
    {
     "name": "stdout",
     "output_type": "stream",
     "text": [
      "3\n"
     ]
    }
   ],
   "source": [
    "a = 2\n",
    "a += 1   # a = a + 1\n",
    "print(a)"
   ]
  },
  {
   "cell_type": "code",
   "execution_count": 6,
   "metadata": {
    "collapsed": false
   },
   "outputs": [
    {
     "name": "stdout",
     "output_type": "stream",
     "text": [
      "<class 'int'> <class 'float'>\n",
      "5 \n",
      " 2.5\n"
     ]
    }
   ],
   "source": [
    "# Variables:\n",
    "a = 5\n",
    "b = 5/2\n",
    "print(type(a), type(b))\n",
    "print(a,\"\\n\",b)"
   ]
  },
  {
   "cell_type": "markdown",
   "metadata": {},
   "source": [
    "## String:"
   ]
  },
  {
   "cell_type": "code",
   "execution_count": 7,
   "metadata": {
    "collapsed": false
   },
   "outputs": [
    {
     "name": "stdout",
     "output_type": "stream",
     "text": [
      "hello world!\n"
     ]
    }
   ],
   "source": [
    "# String:\n",
    "s = 'hello world!'\n",
    "print(s)"
   ]
  },
  {
   "cell_type": "code",
   "execution_count": 8,
   "metadata": {
    "collapsed": false
   },
   "outputs": [
    {
     "name": "stdout",
     "output_type": "stream",
     "text": [
      "hello world!\n",
      "h\n",
      "he\n",
      "llo worl\n",
      "llo world!\n",
      "hello\n",
      "!\n",
      "12\n",
      "hello world!\n",
      "\n",
      "hello world! I love CS4661.\n"
     ]
    }
   ],
   "source": [
    "s = 'hello world!'\n",
    "print(s)\n",
    "\n",
    "print(s[0])\n",
    "\n",
    "print(s[0:2]) # 0 is included, 2 is NOT included\n",
    "\n",
    "print(s[2:10]) # 10 is NOT included\n",
    "\n",
    "print(s[2:])\n",
    "\n",
    "print(s[:5])\n",
    "\n",
    "print(s[-1]) # last element\n",
    "\n",
    "print(len(s)) # length\n",
    "\n",
    "print('hello' + ' ' + 'world' + '!' + '\\n')  # concat with +\n",
    "\n",
    "d = s + ' I love CS4661.'\n",
    "print(d)"
   ]
  },
  {
   "cell_type": "code",
   "execution_count": 9,
   "metadata": {
    "collapsed": false
   },
   "outputs": [
    {
     "name": "stdout",
     "output_type": "stream",
     "text": [
      "2016\n",
      "2016\n",
      "2\n",
      "2017\n"
     ]
    }
   ],
   "source": [
    "# converting to int:\n",
    "a = 2016\n",
    "s = str(a)\n",
    "print(a)\n",
    "print(s)\n",
    "print(s[0])\n",
    "\n",
    "b = int(s)\n",
    "b += 1\n",
    "print(b)"
   ]
  },
  {
   "cell_type": "code",
   "execution_count": 10,
   "metadata": {
    "collapsed": false
   },
   "outputs": [
    {
     "name": "stdout",
     "output_type": "stream",
     "text": [
      "hello world! I love CS4661!\n",
      "15 \n",
      " -1\n",
      "hello world! I like CS4661!\n"
     ]
    }
   ],
   "source": [
    "s = 'hello world! I love CS4661!'\n",
    "print(s)\n",
    "\n",
    "i = s.find('love')      # returns 15 \n",
    "j = s.find('hate')      # returns -1 as not found\n",
    "print(i,'\\n',j)\n",
    "\n",
    "t = s.replace('love','like')    # replacing 'love' by 'like'\n",
    "print(t)"
   ]
  },
  {
   "cell_type": "markdown",
   "metadata": {},
   "source": [
    "## List:"
   ]
  },
  {
   "cell_type": "code",
   "execution_count": 11,
   "metadata": {
    "collapsed": false
   },
   "outputs": [
    {
     "name": "stdout",
     "output_type": "stream",
     "text": [
      "[1, 2, 3, 7, -12, 0, 157]\n",
      "7\n"
     ]
    }
   ],
   "source": [
    "# List also known as array or vector\n",
    "\n",
    "list1 = [1,2,3,7,-12,0,157]\n",
    "\n",
    "print(list1)\n",
    "print(len(list1))  # lenght of a list"
   ]
  },
  {
   "cell_type": "code",
   "execution_count": 12,
   "metadata": {
    "collapsed": false
   },
   "outputs": [
    {
     "name": "stdout",
     "output_type": "stream",
     "text": [
      "[]\n"
     ]
    }
   ],
   "source": [
    "empt = [] # empty list\n",
    "print(empt)"
   ]
  },
  {
   "cell_type": "code",
   "execution_count": 13,
   "metadata": {
    "collapsed": false
   },
   "outputs": [
    {
     "name": "stdout",
     "output_type": "stream",
     "text": [
      "1\n",
      "2\n",
      "157\n",
      "157\n",
      "0\n"
     ]
    }
   ],
   "source": [
    "list1 = [1,2,3,7,-12,0,157]\n",
    "\n",
    "print(list1[0])   # indexing starts from 0\n",
    "print(list1[1])\n",
    "print(list1[6])\n",
    "print(list1[-1])  # -i points to the last element\n",
    "print(list1[-2])"
   ]
  },
  {
   "cell_type": "code",
   "execution_count": 14,
   "metadata": {
    "collapsed": false
   },
   "outputs": [
    {
     "name": "stdout",
     "output_type": "stream",
     "text": [
      "[2, 3, 7, -12]\n",
      "[2, 3, 7, -12, 0, 157]\n",
      "[1, 2, 3, 7, -12]\n",
      "[1, 3, -12, 157]\n"
     ]
    }
   ],
   "source": [
    "l1 = [1,2,3,7,-12,0,157]\n",
    "\n",
    "print(l1[1:5])     # does not include index 5\n",
    "print(l1[1:]) \n",
    "print(l1[:5])\n",
    "print(l1[0:7:2])   # [start:end:step]"
   ]
  },
  {
   "cell_type": "code",
   "execution_count": 15,
   "metadata": {
    "collapsed": false
   },
   "outputs": [
    {
     "name": "stdout",
     "output_type": "stream",
     "text": [
      "['hello', 231, 2.0, '2.0', 'CS4661']\n",
      "hello\n",
      "h\n"
     ]
    }
   ],
   "source": [
    "list2 = ['hello', 231, 2.0, '2.0', 'CS4661']\n",
    "\n",
    "print(list2)\n",
    "print(list2[0])\n",
    "print(list2[0][0])"
   ]
  },
  {
   "cell_type": "code",
   "execution_count": 27,
   "metadata": {
    "collapsed": false
   },
   "outputs": [
    {
     "name": "stdout",
     "output_type": "stream",
     "text": [
      "[1, 2, 3, 4, 5, 6]\n",
      "[1, 2, 3, 4, 5, 6]\n"
     ]
    }
   ],
   "source": [
    "# '+' for concatenating the lists\n",
    "v1 = [1,2,3]\n",
    "v2 = [4,5,6]\n",
    "\n",
    "u = v1 + v2\n",
    "print(u)\n",
    "\n",
    "v1+= v2\n",
    "print(v1)\n"
   ]
  },
  {
   "cell_type": "code",
   "execution_count": 17,
   "metadata": {
    "collapsed": false
   },
   "outputs": [
    {
     "name": "stdout",
     "output_type": "stream",
     "text": [
      "[23, 5, 4, 5, -19, 6]\n"
     ]
    }
   ],
   "source": [
    "# some useful opperations/methods on Lists:\n",
    "\n",
    "l = [23,5,4,5,-19]\n",
    "\n",
    "l.append(6)    # ==> [23, 5, 4, 5, -19, 6]\n",
    "print(l)"
   ]
  },
  {
   "cell_type": "code",
   "execution_count": 28,
   "metadata": {
    "collapsed": false
   },
   "outputs": [
    {
     "name": "stdout",
     "output_type": "stream",
     "text": [
      "[23, 5, 4, 5, -19, 6]\n",
      "6\n",
      "[23, 5, 4, 5, -19]\n",
      "[-19, 4, 5, 5, 23]\n",
      "2\n",
      "2\n"
     ]
    }
   ],
   "source": [
    "# some useful opperations/methods on Lists:\n",
    "\n",
    "l = [23,5,4,5,-19]\n",
    "\n",
    "l.append(6)    # ==> [23, 5, 4, 5, -19, 6]\n",
    "print(l)\n",
    "\n",
    "print(l.pop())        # ==> returns 6, and l=[23, 5, 4, 5, -19]\n",
    "print(l)\n",
    "\n",
    "l.sort()       # ==> [-19, 5, 5, 7, 23]\n",
    "print(l)\n",
    "\n",
    "print(l.count(5))   # counts the number of 5 repetitions\n",
    "\n",
    "print(l.index(5))   # returns index of first 5\n",
    "\n",
    "l_s = sorted(l)"
   ]
  },
  {
   "cell_type": "code",
   "execution_count": 20,
   "metadata": {
    "collapsed": false
   },
   "outputs": [
    {
     "name": "stdout",
     "output_type": "stream",
     "text": [
      "[8, 2, 3, 7, -12, 0, 157]\n",
      "[8, 2, 3, 7, -12, 0, 157]\n",
      "[8, 2, 3, 7, -12, 0, 157]\n"
     ]
    }
   ],
   "source": [
    "# copying a list:\n",
    "l1 = [1,2,3,7,-12,0,157]\n",
    "l2 = l1 # notice: l2 is just another reference to the same list!!!!\n",
    "l3=l2\n",
    "l1[0]=8 # since they both refer to the same list, changing an element of l1 will change the same elemnet of l2 too!\n",
    "\n",
    "print(l1)\n",
    "print(l2)\n",
    "print(l3)"
   ]
  },
  {
   "cell_type": "code",
   "execution_count": 29,
   "metadata": {
    "collapsed": false
   },
   "outputs": [
    {
     "name": "stdout",
     "output_type": "stream",
     "text": [
      "[8, 2, 3, 7, -12, 0, 157]\n",
      "[1, 2, 3, 7, -12, 0, 157]\n"
     ]
    }
   ],
   "source": [
    "# copying a list as a new list:\n",
    "l1 = [1,2,3,7,-12,0,157]\n",
    "l2 = l1[:] # notice: l2 is a new list!!!!\n",
    "\n",
    "l1[0]=8\n",
    "\n",
    "print(l1)\n",
    "print(l2)"
   ]
  },
  {
   "cell_type": "code",
   "execution_count": 32,
   "metadata": {
    "collapsed": false
   },
   "outputs": [
    {
     "data": {
      "text/plain": [
       "[[1, 2], [5, 6], [0, -3]]"
      ]
     },
     "execution_count": 32,
     "metadata": {},
     "output_type": "execute_result"
    }
   ],
   "source": [
    "# List of lists (Matrix):\n",
    "X = [[1,2],[5,6],[0,-3]]\n",
    "X"
   ]
  },
  {
   "cell_type": "code",
   "execution_count": 36,
   "metadata": {
    "collapsed": false
   },
   "outputs": [
    {
     "name": "stdout",
     "output_type": "stream",
     "text": [
      "I love CS4661!\n",
      "['I', 'love', 'CS4661!']\n"
     ]
    }
   ],
   "source": [
    "# Converting to string:\n",
    "\n",
    "\n",
    "# converting a list into a string using a delimiter\n",
    "string_list = ['I','love','CS4661!']\n",
    "\n",
    "s = ' '.join(string_list)   # 'I love CS4661!'\n",
    "print(s)\n",
    "\n",
    "\n",
    "# converting a string into a list separated by a delimiter\n",
    "l = s.split(' ')        # returns ['I','love','CS4661!']\n",
    "print(l)\n"
   ]
  },
  {
   "cell_type": "markdown",
   "metadata": {},
   "source": [
    "## Dictionary:\n",
    "Super helpful! Very important to be able to work comfortably with dictionaries in python."
   ]
  },
  {
   "cell_type": "code",
   "execution_count": 37,
   "metadata": {
    "collapsed": false
   },
   "outputs": [
    {
     "name": "stdout",
     "output_type": "stream",
     "text": [
      "{'Joe': 34, 'Tom': 27, 'Sarah': 28, 'Ryan': 19}\n"
     ]
    }
   ],
   "source": [
    "# key-value pairs\n",
    "# Defining a dictionary:          d = {'key0':'value0','key1':'value1',...} \n",
    "# Defining a blank dictionary:    d = {} \n",
    "# Note1: Dictionary is unorderred! (ordering in meaningless for dictionaries\n",
    "# Note2: keys can be strings or numbers, values can be any type\n",
    "# Note3: keys must be unique, but there is no limitation on value \n",
    "\n",
    "\n",
    "age_dict = {'Tom':27, 'Joe':34, 'Ryan':19, 'Sarah':28}\n",
    "\n",
    "print(age_dict)"
   ]
  },
  {
   "cell_type": "code",
   "execution_count": 42,
   "metadata": {
    "collapsed": false
   },
   "outputs": [
    {
     "name": "stdout",
     "output_type": "stream",
     "text": [
      "27\n",
      "28\n"
     ]
    }
   ],
   "source": [
    "# accessing the pairs\n",
    "age_dict = {'Tom':27, 'Joe':34, 'Ryan':19, 'Sarah':28}\n",
    "\n",
    "print(age_dict['Tom'])\n",
    "print(age_dict['Sarah'])"
   ]
  },
  {
   "cell_type": "code",
   "execution_count": 46,
   "metadata": {
    "collapsed": false
   },
   "outputs": [
    {
     "name": "stdout",
     "output_type": "stream",
     "text": [
      "34\n",
      "{'Joe': 51, 'Rose': 63, 'Tom': 27, 'Sarah': 28, 'Ryan': 19}\n"
     ]
    }
   ],
   "source": [
    "# changing/adding the pairs\n",
    "age_dict = {'Tom':27, 'Joe':34, 'Ryan':19, 'Sarah':28}  # Name:Age\n",
    "\n",
    "print(age_dict['Joe'])\n",
    "\n",
    "age_dict['Joe'] = 51   # changing a value\n",
    "age_dict['Rose'] = 63  # adding new key-value\n",
    "\n",
    "print(age_dict)"
   ]
  },
  {
   "cell_type": "code",
   "execution_count": 56,
   "metadata": {
    "collapsed": false
   },
   "outputs": [
    {
     "name": "stdout",
     "output_type": "stream",
     "text": [
      "{'Joe': ['m', 34, 175], 'Tom': ['m', 27, 155], 'Sarah': ['f', 28, 150], 'Ryan': ['m', 19, 183]}\n",
      "['m', 34, 175]\n",
      "19\n"
     ]
    }
   ],
   "source": [
    "# value can be a list\n",
    "\n",
    "# Name:[Gender,Age,Weight]\n",
    "age_dict = {'Tom':['m',27,155], 'Joe':['m',34,175], 'Ryan':['m',19,183], 'Sarah':['f',28,150]}\n",
    "\n",
    "print(age_dict)\n",
    "print(age_dict['Joe'])\n",
    "print(age_dict['Ryan'][1])\n",
    "\n"
   ]
  },
  {
   "cell_type": "code",
   "execution_count": 58,
   "metadata": {
    "collapsed": false
   },
   "outputs": [
    {
     "name": "stdout",
     "output_type": "stream",
     "text": [
      "4\n",
      "dict_keys(['Joe', 'Tom', 'Sarah', 'Ryan'])\n",
      "dict_values([34, 27, 28, 19])\n",
      "dict_items([('Joe', 34), ('Tom', 27), ('Sarah', 28), ('Ryan', 19)])\n"
     ]
    }
   ],
   "source": [
    "# accessing all key,value\n",
    "age_dict = {'Tom':27, 'Joe':34, 'Ryan':19, 'Sarah':28}  # Name:Age\n",
    "\n",
    "print(len(age_dict))     # returns 4\n",
    "\n",
    "print(age_dict.keys())       # returns a list: ['Tom', 'Joe', 'Ryan', 'Sarah']\n",
    "print(age_dict.values())     # returns a list: [27, 34, 19, 28]\n",
    "print(age_dict.items())     # returns a list of tuples: [('Tom',27),('Joe',34),('Ryan',19),('Sarah',28)]\n"
   ]
  },
  {
   "cell_type": "code",
   "execution_count": 61,
   "metadata": {
    "collapsed": false
   },
   "outputs": [
    {
     "data": {
      "text/plain": [
       "False"
      ]
     },
     "execution_count": 61,
     "metadata": {},
     "output_type": "execute_result"
    }
   ],
   "source": [
    "# checking if a *key* is already available:\n",
    "\n",
    "'Ryan' in  age_dict    # returns True\n",
    "'Annie' in  age_dict # returns False\n"
   ]
  },
  {
   "cell_type": "markdown",
   "metadata": {},
   "source": [
    "## Conditional Statements:"
   ]
  },
  {
   "cell_type": "code",
   "execution_count": 62,
   "metadata": {
    "collapsed": false
   },
   "outputs": [
    {
     "name": "stdout",
     "output_type": "stream",
     "text": [
      "True\n",
      "True\n",
      "True\n",
      "True\n",
      "True\n",
      "True\n",
      "False\n"
     ]
    }
   ],
   "source": [
    "# comparisons:\n",
    "print(7 > 5)\n",
    "print(7 >= 5)\n",
    "print(7 != 5)\n",
    "print(7 == 7)\n",
    "\n",
    "# boolean operations:\n",
    "print ((3 > -3) and (1 > 0))\n",
    "print ((11 > 21) or (9 < 11))\n",
    "print ((11 > 21) or not(9 < 11))\n"
   ]
  },
  {
   "cell_type": "code",
   "execution_count": 67,
   "metadata": {
    "collapsed": false
   },
   "outputs": [
    {
     "name": "stdout",
     "output_type": "stream",
     "text": [
      "2 is positive\n"
     ]
    }
   ],
   "source": [
    "# if statement:\n",
    "n = 2\n",
    "if n > 0:\n",
    "    print(n ,'is positive')\n",
    "    n-=1"
   ]
  },
  {
   "cell_type": "code",
   "execution_count": 68,
   "metadata": {
    "collapsed": false
   },
   "outputs": [
    {
     "name": "stdout",
     "output_type": "stream",
     "text": [
      "-2 is not positive\n"
     ]
    }
   ],
   "source": [
    "# if/else statement:\n",
    "n = -2\n",
    "if n > 0:\n",
    "    print(n ,'is positive')\n",
    "else:\n",
    "    print(n ,'is not positive')\n"
   ]
  },
  {
   "cell_type": "code",
   "execution_count": 66,
   "metadata": {
    "collapsed": false
   },
   "outputs": [
    {
     "name": "stdout",
     "output_type": "stream",
     "text": [
      "2 is positive\n"
     ]
    }
   ],
   "source": [
    "# if/elif/else statement\n",
    "n = 2\n",
    "if n > 0:\n",
    "    print(n ,'is positive')\n",
    "elif n == 0:\n",
    "    print(n ,'is zero')\n",
    "else:\n",
    "    print(n ,'is negative')\n",
    "    "
   ]
  },
  {
   "cell_type": "markdown",
   "metadata": {},
   "source": [
    "#### Note: Four Spaces for indentation level is the Python standard. "
   ]
  },
  {
   "cell_type": "code",
   "execution_count": 73,
   "metadata": {
    "collapsed": false
   },
   "outputs": [
    {
     "name": "stdout",
     "output_type": "stream",
     "text": [
      "3 2\n",
      "m is greater than n\n",
      "I will replace them\n",
      "succes!\n",
      "2 3\n"
     ]
    }
   ],
   "source": [
    "# Example:\n",
    "m , n  = 3 , 2 #pythonic syntax\n",
    "#n = 2\n",
    "print(m,n)\n",
    "if m>n:\n",
    "    print('m is greater than n')\n",
    "    print('I will replace them')\n",
    "    m,n = n,m\n",
    "print('succes!')\n",
    "print(m,n)\n"
   ]
  },
  {
   "cell_type": "code",
   "execution_count": 76,
   "metadata": {
    "collapsed": false
   },
   "outputs": [
    {
     "name": "stdout",
     "output_type": "stream",
     "text": [
      "Tom and Joe are already in the dictionary\n"
     ]
    }
   ],
   "source": [
    "# using dictionary in if statement:\n",
    "\n",
    "age_dict = {'Tom':27, 'Joe':34, 'Ryan':19, 'Sarah':28}\n",
    "\n",
    "#if 'Tom' in age_dict: \n",
    "if 'Tom' in age_dict and 'Joe' in age_dict:\n",
    "    #print('Tom is already in the dictionary')\n",
    "    print('Tom and Joe are already in the dictionary')\n",
    "else:    \n",
    "    age_dict['Tom'] = 28\n",
    "    age_dict['Joe'] = 44\n",
    "    print('Tom is added')\n"
   ]
  },
  {
   "cell_type": "markdown",
   "metadata": {},
   "source": [
    "## Loops:"
   ]
  },
  {
   "cell_type": "code",
   "execution_count": 77,
   "metadata": {
    "collapsed": false
   },
   "outputs": [
    {
     "name": "stdout",
     "output_type": "stream",
     "text": [
      "chicken\n",
      "7\n",
      "pizza\n",
      "5\n",
      "sandwitch\n",
      "9\n",
      "['chicken', 'pizza', 'sandwitch']\n"
     ]
    }
   ],
   "source": [
    "# For Loop:\n",
    "\n",
    "foods = ['chicken','pizza','sandwitch']\n",
    "\n",
    "for f in foods:\n",
    "    print(f)       # inside the loop\n",
    "    print(len(f))  # inside the loop\n",
    "\n",
    "print(foods)       # outside the loop\n",
    " "
   ]
  },
  {
   "cell_type": "code",
   "execution_count": 79,
   "metadata": {
    "collapsed": false
   },
   "outputs": [
    {
     "name": "stdout",
     "output_type": "stream",
     "text": [
      "Hello World\n",
      "Hello World\n",
      "Hello World\n",
      "Hello World\n",
      "Hello World\n",
      "Hello World\n",
      "Hello World\n",
      "Hello World\n",
      "Hello World\n",
      "Hello World\n"
     ]
    }
   ],
   "source": [
    "for i in range(10):\n",
    "    print(\"Hello World\")"
   ]
  },
  {
   "cell_type": "markdown",
   "metadata": {},
   "source": [
    "####  Note: Four Spaces for indentation level is the Python standard. "
   ]
  },
  {
   "cell_type": "code",
   "execution_count": 86,
   "metadata": {
    "collapsed": false
   },
   "outputs": [
    {
     "name": "stdout",
     "output_type": "stream",
     "text": [
      "range(0, 5) range(3, 5) range(0, 5, 2)\n"
     ]
    }
   ],
   "source": [
    "# range:\n",
    "\n",
    "# range returns a list of integers\n",
    "r1 = range(5)     # r1 = [0, 1, 2, 3, 4]\n",
    "\n",
    "r2 = range(3,5)     # r2 = [3, 4]\n",
    "\n",
    "r3 = range(0,5,2)     # r3 = [0, 2, 4]\n",
    "print(r1,r2,r3)"
   ]
  },
  {
   "cell_type": "code",
   "execution_count": 85,
   "metadata": {
    "collapsed": false
   },
   "outputs": [
    {
     "name": "stdout",
     "output_type": "stream",
     "text": [
      "0\n",
      "1\n",
      "2\n",
      "3\n",
      "4\n",
      "\n",
      "\n",
      "0\n",
      "5\n",
      "10\n",
      "15\n"
     ]
    }
   ],
   "source": [
    "# for loop with range:\n",
    "\n",
    "for x in range(5):\n",
    "    print(x)\n",
    "\n",
    "print('\\n')    \n",
    "\n",
    "for y in range(0,20,5):\n",
    "    print(y)"
   ]
  },
  {
   "cell_type": "code",
   "execution_count": 87,
   "metadata": {
    "collapsed": false
   },
   "outputs": [
    {
     "name": "stdout",
     "output_type": "stream",
     "text": [
      "Joe is studying in CS\n",
      "Tom is studying in CS\n",
      "Sarah is studying in CE\n",
      "Ryan is studying in EE\n",
      "\n",
      "\n",
      "Joe is studying in CS\n",
      "Tom is studying in CS\n",
      "Sarah is studying in CE\n",
      "Ryan is studying in EE\n"
     ]
    }
   ],
   "source": [
    "# for loop over a dictionary items:\n",
    "\n",
    "major_dict = {'Tom':'CS', 'Joe':'CS', 'Ryan':'EE', 'Sarah':'CE'}\n",
    "\n",
    "for k in major_dict.keys():\n",
    "    print(k,'is studying in', major_dict[k])\n",
    "\n",
    "print('\\n')\n",
    "\n",
    "# equivalent approach:\n",
    "for k,v in major_dict.items():\n",
    "    print(k,'is studying in',v)\n",
    "\n",
    "# Again remember that dictionary items have no definite order"
   ]
  },
  {
   "cell_type": "code",
   "execution_count": 88,
   "metadata": {
    "collapsed": false
   },
   "outputs": [
    {
     "name": "stdout",
     "output_type": "stream",
     "text": [
      "0\n",
      "1\n",
      "2\n",
      "3\n",
      "4\n",
      "5\n",
      "6\n",
      "7\n",
      "8\n",
      "9\n",
      "10\n",
      "11  is the magic number\n",
      "done!\n",
      "\n",
      "0\n",
      "2\n",
      "3\n",
      "4\n",
      "6\n",
      "8\n"
     ]
    }
   ],
   "source": [
    "# break and continue:\n",
    "\n",
    "magic_number = 11\n",
    "for i in range(101):\n",
    "    if i == magic_number:\n",
    "        print(i,\" is the magic number\")\n",
    "        break # Jump out of the current \"For Loop\" to the line: print(\"done!\")\n",
    "    else:\n",
    "        print(i)\n",
    "print(\"done!\\n\")\n",
    "\n",
    "\n",
    "MyList = [1, 5 , 7, 9]\n",
    "for j in range(0,10):\n",
    "    if j in MyList:\n",
    "        continue # stop the iteration here and continue with the next j\n",
    "    print(j)\n"
   ]
  },
  {
   "cell_type": "code",
   "execution_count": 90,
   "metadata": {
    "collapsed": false
   },
   "outputs": [
    {
     "name": "stdout",
     "output_type": "stream",
     "text": [
      "[1, 4, 9, 16, 25]\n",
      "[0, 1, 2, 3, 4, 5, 6, 7, 8, 9]\n",
      "[25, 36, 49, 64, 81]\n",
      "[[0, 0, 0, 0, 0], [0, 0, 0, 0, 0], [0, 0, 0, 0, 0]]\n"
     ]
    }
   ],
   "source": [
    "# for loop in line:\n",
    "\n",
    "# Example1:\n",
    "mylist=[1,2,3,4,5]\n",
    "mylist_sqr = [i*i for i in mylist]\n",
    "print(mylist_sqr)    # returns [1, 4, 9, 16, 25]\n",
    "\n",
    "\n",
    "# Example2:\n",
    "x = [i for i in range(10)]\n",
    "print(x)    # returns [0, 1, 2, 3, 4, 5, 6, 7, 8, 9]\n",
    "\n",
    "# Example3:\n",
    "x = [j**2 for j in range(10) if j>4]\n",
    "print(x)    # returns [25, 36, 49, 64, 81]\n",
    "\n",
    "\n",
    "# Example5: Matrix\n",
    "Matrix = [[0 for x in range(5)] for x in range(3)]\n",
    "print(Matrix)\n"
   ]
  },
  {
   "cell_type": "code",
   "execution_count": 91,
   "metadata": {
    "collapsed": false
   },
   "outputs": [
    {
     "name": "stdout",
     "output_type": "stream",
     "text": [
      "0\n",
      "1\n",
      "2\n",
      "3\n",
      "4\n"
     ]
    }
   ],
   "source": [
    "# While Loop: \n",
    "\n",
    "n = 0\n",
    "while n<5:\n",
    "    print(n)\n",
    "    n += 1\n"
   ]
  },
  {
   "cell_type": "markdown",
   "metadata": {},
   "source": [
    "## Functions:"
   ]
  },
  {
   "cell_type": "code",
   "execution_count": 92,
   "metadata": {
    "collapsed": false
   },
   "outputs": [
    {
     "name": "stdout",
     "output_type": "stream",
     "text": [
      "This is a test!\n"
     ]
    }
   ],
   "source": [
    "# simplest case: defining a function with no input argument and no return results:\n",
    "\n",
    "def myPrint(): \n",
    "    print('This is a test!')\n",
    "\n",
    "\n",
    "# calling this function:\n",
    "myPrint()"
   ]
  },
  {
   "cell_type": "code",
   "execution_count": 98,
   "metadata": {
    "collapsed": false
   },
   "outputs": [
    {
     "name": "stdout",
     "output_type": "stream",
     "text": [
      "2016 2017 4033 10\n"
     ]
    }
   ],
   "source": [
    "# defining a function to get two input arguments and return the sum:\n",
    "# Note: we usually add function/input/output description in the first line after def. We use \"\"\"text\"\"\" to do this documentation.\n",
    "# Anything between 3 quotation marks will be considered as comment\n",
    "\n",
    "def mySum(a = 0, b = 0): # default values are optional\n",
    "    \"\"\"This is a function for summation\n",
    "       inputs: a,b\n",
    "       output: it returns a+b as output\"\"\"\n",
    "    c = a + b\n",
    "    return c\n",
    "\n",
    "\n",
    "# calling this function:\n",
    "s = mySum(7,3)\n",
    "v = mySum(a,b)\n",
    "print(a,b,v,s)"
   ]
  },
  {
   "cell_type": "code",
   "execution_count": 97,
   "metadata": {
    "collapsed": false
   },
   "outputs": [
    {
     "name": "stdout",
     "output_type": "stream",
     "text": [
      "10 4\n"
     ]
    }
   ],
   "source": [
    "# defining a function to get two input arguments and return the sum and sub:\n",
    "\n",
    "def mySum(a = 0, b = 0): # default values are optional\n",
    "    \"\"\"This is a function for summation and subtraction\n",
    "       inputs: a,b\n",
    "       output: it returns a+b and a-b as outputs\"\"\"\n",
    "    c = a + b\n",
    "    d = a - b\n",
    "    return c,d\n",
    "\n",
    "\n",
    "# calling this function:\n",
    "sm,sb = mySum(7,3)\n",
    "print(sm,sb)"
   ]
  },
  {
   "cell_type": "code",
   "execution_count": 99,
   "metadata": {
    "collapsed": false
   },
   "outputs": [
    {
     "name": "stdout",
     "output_type": "stream",
     "text": [
      "4\n"
     ]
    }
   ],
   "source": [
    "# Lambda: in-line functions!\n",
    "\n",
    "# Example1:\n",
    "# defining a function that gets an input, and calculate and return squared value using lambda\n",
    "mySqr = lambda x: x**2\n",
    "\n",
    "# calling:\n",
    "y = mySqr(2)\n",
    "print(y)\n",
    "\n"
   ]
  },
  {
   "cell_type": "code",
   "execution_count": 100,
   "metadata": {
    "collapsed": false
   },
   "outputs": [
    {
     "name": "stdout",
     "output_type": "stream",
     "text": [
      "20\n"
     ]
    }
   ],
   "source": [
    "# Lambda: in-line functions!\n",
    "\n",
    "# Example2:\n",
    "# defining a function that gets two input, and calculate and return the summation of squared values using lambda\n",
    "mySqr = lambda x1,x2: x1**2 + x2**2\n",
    "\n",
    "# calling:\n",
    "y = mySqr(2,4)\n",
    "print(y)\n",
    "\n"
   ]
  },
  {
   "cell_type": "markdown",
   "metadata": {},
   "source": [
    "## Exceptions:\n"
   ]
  },
  {
   "cell_type": "code",
   "execution_count": 101,
   "metadata": {
    "collapsed": false
   },
   "outputs": [
    {
     "name": "stdout",
     "output_type": "stream",
     "text": [
      "devided by zero\n"
     ]
    }
   ],
   "source": [
    "a = 0\n",
    "b = 1\n",
    "try:\n",
    "    c = b/a\n",
    "except:\n",
    "    print(\"devided by zero\")"
   ]
  },
  {
   "cell_type": "code",
   "execution_count": null,
   "metadata": {
    "collapsed": true
   },
   "outputs": [],
   "source": []
  }
 ],
 "metadata": {
  "anaconda-cloud": {},
  "kernelspec": {
   "display_name": "Python [Root]",
   "language": "python",
   "name": "Python [Root]"
  },
  "language_info": {
   "codemirror_mode": {
    "name": "ipython",
    "version": 3
   },
   "file_extension": ".py",
   "mimetype": "text/x-python",
   "name": "python",
   "nbconvert_exporter": "python",
   "pygments_lexer": "ipython3",
   "version": "3.5.2"
  }
 },
 "nbformat": 4,
 "nbformat_minor": 0
}
