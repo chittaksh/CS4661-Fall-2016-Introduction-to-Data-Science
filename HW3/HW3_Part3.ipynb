{
 "cells": [
  {
   "cell_type": "markdown",
   "metadata": {},
   "source": [
    "# CS 4661 Homework 3\n",
    "\n",
    "#### Vidushi Dikshit(CIN: 305064011 )\n",
    "\n",
    "#### Chittaksh Khadse(CIN: 305058538 )"
   ]
  },
  {
   "cell_type": "markdown",
   "metadata": {},
   "source": [
    "### Que 1 - In this question, we work with a simplified version of Heart dataset (remember that this dataset is a little different from what you have used in HW2). Read the dataset file “Hearts_short.csv” (you should download it from CSNS), and assign it to a Pandas DataFrame."
   ]
  },
  {
   "cell_type": "code",
   "execution_count": 17,
   "metadata": {
    "collapsed": true
   },
   "outputs": [],
   "source": [
    "import pandas as pd\n",
    "import numpy as np\n",
    "from sklearn import metrics\n",
    "from sklearn.cross_validation import train_test_split\n",
    "from sklearn.linear_model import LogisticRegression\n",
    "from sklearn.cluster import KMeans\n",
    "from sklearn.metrics import accuracy_score\n",
    "from sklearn.cross_validation import cross_val_score\n",
    "from sklearn import metrics\n",
    "import matplotlib.pyplot as plt\n",
    "import numpy as np\n",
    "import pandas as pd"
   ]
  },
  {
   "cell_type": "code",
   "execution_count": 18,
   "metadata": {
    "collapsed": false
   },
   "outputs": [
    {
     "data": {
      "text/html": [
       "<div>\n",
       "<table border=\"1\" class=\"dataframe\">\n",
       "  <thead>\n",
       "    <tr style=\"text-align: right;\">\n",
       "      <th></th>\n",
       "      <th>Age</th>\n",
       "      <th>RestBP</th>\n",
       "      <th>Chol</th>\n",
       "      <th>RestECG</th>\n",
       "      <th>MaxHR</th>\n",
       "      <th>Oldpeak</th>\n",
       "      <th>AHD</th>\n",
       "    </tr>\n",
       "  </thead>\n",
       "  <tbody>\n",
       "    <tr>\n",
       "      <th>0</th>\n",
       "      <td>63</td>\n",
       "      <td>145</td>\n",
       "      <td>233</td>\n",
       "      <td>2</td>\n",
       "      <td>150</td>\n",
       "      <td>2.3</td>\n",
       "      <td>No</td>\n",
       "    </tr>\n",
       "    <tr>\n",
       "      <th>1</th>\n",
       "      <td>67</td>\n",
       "      <td>160</td>\n",
       "      <td>286</td>\n",
       "      <td>2</td>\n",
       "      <td>108</td>\n",
       "      <td>1.5</td>\n",
       "      <td>Yes</td>\n",
       "    </tr>\n",
       "    <tr>\n",
       "      <th>2</th>\n",
       "      <td>67</td>\n",
       "      <td>120</td>\n",
       "      <td>229</td>\n",
       "      <td>2</td>\n",
       "      <td>129</td>\n",
       "      <td>2.6</td>\n",
       "      <td>Yes</td>\n",
       "    </tr>\n",
       "    <tr>\n",
       "      <th>3</th>\n",
       "      <td>37</td>\n",
       "      <td>130</td>\n",
       "      <td>250</td>\n",
       "      <td>0</td>\n",
       "      <td>187</td>\n",
       "      <td>3.5</td>\n",
       "      <td>No</td>\n",
       "    </tr>\n",
       "    <tr>\n",
       "      <th>4</th>\n",
       "      <td>41</td>\n",
       "      <td>130</td>\n",
       "      <td>204</td>\n",
       "      <td>2</td>\n",
       "      <td>172</td>\n",
       "      <td>1.4</td>\n",
       "      <td>No</td>\n",
       "    </tr>\n",
       "  </tbody>\n",
       "</table>\n",
       "</div>"
      ],
      "text/plain": [
       "   Age  RestBP  Chol  RestECG  MaxHR  Oldpeak  AHD\n",
       "0   63     145   233        2    150      2.3   No\n",
       "1   67     160   286        2    108      1.5  Yes\n",
       "2   67     120   229        2    129      2.6  Yes\n",
       "3   37     130   250        0    187      3.5   No\n",
       "4   41     130   204        2    172      1.4   No"
      ]
     },
     "execution_count": 18,
     "metadata": {},
     "output_type": "execute_result"
    }
   ],
   "source": [
    "heart_df = pd.read_csv(\"https://raw.githubusercontent.com/vidushidikshit/Machine_Learning/master/Heart_short.csv\")\n",
    "heart_df.head()"
   ]
  },
  {
   "cell_type": "markdown",
   "metadata": {},
   "source": [
    "### Que 2 - Generate the feature matrix and label vector (AHD). Then, normalize (scale) the features."
   ]
  },
  {
   "cell_type": "code",
   "execution_count": 19,
   "metadata": {
    "collapsed": false
   },
   "outputs": [
    {
     "data": {
      "text/plain": [
       "0    0\n",
       "1    1\n",
       "2    1\n",
       "3    0\n",
       "4    0\n",
       "Name: label, dtype: int64"
      ]
     },
     "execution_count": 19,
     "metadata": {},
     "output_type": "execute_result"
    }
   ],
   "source": [
    "def categorical_to_numeric(x):\n",
    "    if x == 'Yes':\n",
    "        return 1\n",
    "    elif x == 'No':\n",
    "        return 0\n",
    "   \n",
    "    \n",
    "heart_df['label'] = heart_df['AHD'].apply(categorical_to_numeric)\n",
    "y= heart_df['label']\n",
    "y.head()"
   ]
  },
  {
   "cell_type": "code",
   "execution_count": 20,
   "metadata": {
    "collapsed": false
   },
   "outputs": [
    {
     "data": {
      "text/html": [
       "<div>\n",
       "<table border=\"1\" class=\"dataframe\">\n",
       "  <thead>\n",
       "    <tr style=\"text-align: right;\">\n",
       "      <th></th>\n",
       "      <th>Age</th>\n",
       "      <th>RestBP</th>\n",
       "      <th>Chol</th>\n",
       "      <th>RestECG</th>\n",
       "      <th>MaxHR</th>\n",
       "      <th>Oldpeak</th>\n",
       "    </tr>\n",
       "  </thead>\n",
       "  <tbody>\n",
       "    <tr>\n",
       "      <th>0</th>\n",
       "      <td>0.818182</td>\n",
       "      <td>0.725</td>\n",
       "      <td>0.413121</td>\n",
       "      <td>1.0</td>\n",
       "      <td>0.742574</td>\n",
       "      <td>0.370968</td>\n",
       "    </tr>\n",
       "    <tr>\n",
       "      <th>1</th>\n",
       "      <td>0.870130</td>\n",
       "      <td>0.800</td>\n",
       "      <td>0.507092</td>\n",
       "      <td>1.0</td>\n",
       "      <td>0.534653</td>\n",
       "      <td>0.241935</td>\n",
       "    </tr>\n",
       "    <tr>\n",
       "      <th>2</th>\n",
       "      <td>0.870130</td>\n",
       "      <td>0.600</td>\n",
       "      <td>0.406028</td>\n",
       "      <td>1.0</td>\n",
       "      <td>0.638614</td>\n",
       "      <td>0.419355</td>\n",
       "    </tr>\n",
       "    <tr>\n",
       "      <th>3</th>\n",
       "      <td>0.480519</td>\n",
       "      <td>0.650</td>\n",
       "      <td>0.443262</td>\n",
       "      <td>0.0</td>\n",
       "      <td>0.925743</td>\n",
       "      <td>0.564516</td>\n",
       "    </tr>\n",
       "    <tr>\n",
       "      <th>4</th>\n",
       "      <td>0.532468</td>\n",
       "      <td>0.650</td>\n",
       "      <td>0.361702</td>\n",
       "      <td>1.0</td>\n",
       "      <td>0.851485</td>\n",
       "      <td>0.225806</td>\n",
       "    </tr>\n",
       "  </tbody>\n",
       "</table>\n",
       "</div>"
      ],
      "text/plain": [
       "        Age  RestBP      Chol  RestECG     MaxHR   Oldpeak\n",
       "0  0.818182   0.725  0.413121      1.0  0.742574  0.370968\n",
       "1  0.870130   0.800  0.507092      1.0  0.534653  0.241935\n",
       "2  0.870130   0.600  0.406028      1.0  0.638614  0.419355\n",
       "3  0.480519   0.650  0.443262      0.0  0.925743  0.564516\n",
       "4  0.532468   0.650  0.361702      1.0  0.851485  0.225806"
      ]
     },
     "execution_count": 20,
     "metadata": {},
     "output_type": "execute_result"
    }
   ],
   "source": [
    "feature_cols = ['Age','RestBP','Chol','RestECG','MaxHR','Oldpeak']\n",
    "#heart_dataf[feature_cols]\n",
    "\n",
    "#Normalization of the data.\n",
    "for f  in feature_cols:\n",
    "    max_feature = heart_df[f].max()\n",
    "    heart_df[f]= heart_df[f]/max_feature\n",
    "    #print(max_feature)\n",
    "#heart_dataf\n",
    "\n",
    "X= heart_df[feature_cols]\n",
    "X.head()"
   ]
  },
  {
   "cell_type": "markdown",
   "metadata": {},
   "source": [
    "### Que 3 - Split the dataset into testing and training sets with the following parameters: test_size=0.2, random_state=3."
   ]
  },
  {
   "cell_type": "code",
   "execution_count": 21,
   "metadata": {
    "collapsed": true
   },
   "outputs": [],
   "source": [
    "X_train, X_test,y_train,y_test = train_test_split(X, y, test_size=0.2, random_state=3)"
   ]
  },
  {
   "cell_type": "code",
   "execution_count": 22,
   "metadata": {
    "collapsed": false
   },
   "outputs": [
    {
     "name": "stdout",
     "output_type": "stream",
     "text": [
      "(224, 6)\n",
      "(224,)\n",
      "(57, 6)\n",
      "(57,)\n"
     ]
    }
   ],
   "source": [
    "# print the size of the traning set:\n",
    "print(X_train.shape)\n",
    "print(y_train.shape)\n",
    "\n",
    "# print the size of the testing set:\n",
    "print(X_test.shape)\n",
    "print(y_test.shape)"
   ]
  },
  {
   "cell_type": "markdown",
   "metadata": {},
   "source": [
    "### Que 4 - Use Logistic Regression Classifier to predict Heart Disease occurrence based on the training/testing datasets that you built in part(c). Then, compute and report the Accuracy."
   ]
  },
  {
   "cell_type": "code",
   "execution_count": 23,
   "metadata": {
    "collapsed": false
   },
   "outputs": [],
   "source": [
    "# \"my_logreg\" is instantiated as an \"object\" of LogisticRegression \"class\". \n",
    "my_logreg = LogisticRegression()"
   ]
  },
  {
   "cell_type": "code",
   "execution_count": 24,
   "metadata": {
    "collapsed": false
   },
   "outputs": [
    {
     "data": {
      "text/plain": [
       "LogisticRegression(C=1.0, class_weight=None, dual=False, fit_intercept=True,\n",
       "          intercept_scaling=1, max_iter=100, multi_class='ovr', n_jobs=1,\n",
       "          penalty='l2', random_state=None, solver='liblinear', tol=0.0001,\n",
       "          verbose=0, warm_start=False)"
      ]
     },
     "execution_count": 24,
     "metadata": {},
     "output_type": "execute_result"
    }
   ],
   "source": [
    "# Training ONLY on the training set:\n",
    "my_logreg.fit(X_train, y_train)"
   ]
  },
  {
   "cell_type": "code",
   "execution_count": 25,
   "metadata": {
    "collapsed": false
   },
   "outputs": [
    {
     "name": "stdout",
     "output_type": "stream",
     "text": [
      "[0 1 0 0 0 0 0 0 0 0 1 0 1 0 0 0 1 0 1 1 0 0 1 0 1 1 0 0 0 0 1 1 1 0 0 1 1\n",
      " 0 1 0 0 1 0 0 1 1 0 0 1 0 0 1 0 1 0 0 0]\n"
     ]
    }
   ],
   "source": [
    "# Testing on the testing set:\n",
    "y_predict_lr = my_logreg.predict(X_test)\n",
    "print(y_predict_lr)"
   ]
  },
  {
   "cell_type": "code",
   "execution_count": 26,
   "metadata": {
    "collapsed": false
   },
   "outputs": [
    {
     "name": "stdout",
     "output_type": "stream",
     "text": [
      "0.719298245614\n"
     ]
    }
   ],
   "source": [
    "score_lr = accuracy_score(y_test, y_predict_lr)\n",
    "\n",
    "print(score_lr)"
   ]
  },
  {
   "cell_type": "markdown",
   "metadata": {},
   "source": [
    "### Que 5 - Now, Use Logistic Regression Classifier to predict the probability of Heart Disease based on the training/testing datasets that you built in part (c) (you have to use “my_logreg.predict_proba” method rather than “my_logreg.predict”). Then, Plot Roc Curve for this classifier, and also Compute the AUC (Area Under Curve for ROC)."
   ]
  },
  {
   "cell_type": "code",
   "execution_count": 27,
   "metadata": {
    "collapsed": true
   },
   "outputs": [],
   "source": [
    "# Estimating the probability (likelihood) of Each Label: \n",
    "y_predict_prob_lr = my_logreg.predict_proba(X_test)\n"
   ]
  },
  {
   "cell_type": "code",
   "execution_count": 28,
   "metadata": {
    "collapsed": false
   },
   "outputs": [
    {
     "name": "stdout",
     "output_type": "stream",
     "text": [
      "[ 0.          0.03333333  0.03333333  0.06666667  0.06666667  0.1         0.1\n",
      "  0.13333333  0.13333333  0.16666667  0.16666667  0.2         0.2\n",
      "  0.26666667  0.26666667  0.4         0.4         0.43333333  0.43333333\n",
      "  0.63333333  0.63333333  0.7         0.7         0.83333333  0.83333333\n",
      "  0.9         0.9         1.        ]\n",
      "[ 0.03703704  0.03703704  0.25925926  0.25925926  0.40740741  0.40740741\n",
      "  0.44444444  0.44444444  0.55555556  0.55555556  0.59259259  0.59259259\n",
      "  0.66666667  0.66666667  0.7037037   0.7037037   0.74074074  0.74074074\n",
      "  0.81481481  0.81481481  0.85185185  0.85185185  0.88888889  0.88888889\n",
      "  0.92592593  0.92592593  1.          1.        ]\n"
     ]
    }
   ],
   "source": [
    "fpr, tpr, thresholds = metrics.roc_curve(y_test, y_predict_prob_lr[:,1], pos_label=1)\n",
    "\n",
    "print(fpr)\n",
    "print(tpr)"
   ]
  },
  {
   "cell_type": "code",
   "execution_count": 29,
   "metadata": {
    "collapsed": false
   },
   "outputs": [
    {
     "name": "stdout",
     "output_type": "stream",
     "text": [
      "0.73950617284\n"
     ]
    }
   ],
   "source": [
    "# AUC:\n",
    "AUC = metrics.auc(fpr, tpr)\n",
    "print(AUC)"
   ]
  },
  {
   "cell_type": "code",
   "execution_count": 30,
   "metadata": {
    "collapsed": false
   },
   "outputs": [
    {
     "data": {
      "image/png": "[encoded data removed]",
      "text/plain": [
       "<matplotlib.figure.Figure at 0x24d826386d8>"
      ]
     },
     "metadata": {},
     "output_type": "display_data"
    }
   ],
   "source": [
    "# Importing the \"pyplot\" package of \"matplotlib\" library of python to generate \n",
    "# graphs and plot curves:\n",
    "import matplotlib.pyplot as plt\n",
    "\n",
    "# The following line will tell Jupyter Notebook to keep the figures inside the explorer page \n",
    "# rather than openng a new figure window:\n",
    "%matplotlib inline\n",
    "\n",
    "plt.figure()\n",
    "\n",
    "# Roc Curve:\n",
    "plt.plot(fpr, tpr, color='red', lw=2, \n",
    "         label='ROC Curve (area = %0.2f)' % AUC)\n",
    "\n",
    "# Random Guess line:\n",
    "plt.plot([0, 1], [0, 1], color='blue', lw=1, linestyle='--')\n",
    "\n",
    "# Defining The Range of X-Axis and Y-Axis:\n",
    "plt.xlim([-0.005, 1.005])\n",
    "plt.ylim([0.0, 1.01])\n",
    "\n",
    "# Labels, Title, Legend:\n",
    "plt.xlabel('False Positive Rate')\n",
    "plt.ylabel('True Positive Rate')\n",
    "plt.title('Receiver operating characteristic')\n",
    "plt.legend(loc=\"lower right\")\n",
    "\n",
    "plt.show()"
   ]
  },
  {
   "cell_type": "code",
   "execution_count": null,
   "metadata": {
    "collapsed": true
   },
   "outputs": [],
   "source": []
  }
 ],
 "metadata": {
  "anaconda-cloud": {},
  "kernelspec": {
   "display_name": "Python [Root]",
   "language": "python",
   "name": "Python [Root]"
  },
  "language_info": {
   "codemirror_mode": {
    "name": "ipython",
    "version": 3
   },
   "file_extension": ".py",
   "mimetype": "text/x-python",
   "name": "python",
   "nbconvert_exporter": "python",
   "pygments_lexer": "ipython3",
   "version": "3.5.2"
  }
 },
 "nbformat": 4,
 "nbformat_minor": 0
}
